{
 "cells": [
  {
   "cell_type": "code",
   "execution_count": 71,
   "metadata": {},
   "outputs": [],
   "source": [
    "import timeit"
   ]
  },
  {
   "cell_type": "markdown",
   "metadata": {},
   "source": [
    "### Recursion Syntax\n",
    "\n",
    "```\n",
    "def recursionMethod(parameter):\n",
    "    if exit_from_condition_satisfied:\n",
    "        return some_value\n",
    "    else:\n",
    "        recursionMethod(modified_parameter)\n",
    "```"
   ]
  },
  {
   "cell_type": "code",
   "execution_count": 27,
   "metadata": {},
   "outputs": [
    {
     "name": "stdout",
     "output_type": "stream",
     "text": [
      "Reached doll no. 5\n",
      "Reached doll no. 4\n",
      "Reached doll no. 3\n",
      "Reached doll no. 2\n",
      "You have found the final doll. Kudos!\n"
     ]
    }
   ],
   "source": [
    "## Example - 1\n",
    "def russ_dol(n):\n",
    "    if n==1:\n",
    "        print(\"You have found the final doll. Kudos!\")\n",
    "    else:\n",
    "        print(f\"Reached doll no. {n}\")\n",
    "        russ_dol(n-1)\n",
    "russ_dol(5)"
   ]
  },
  {
   "cell_type": "markdown",
   "metadata": {},
   "source": [
    "### How does it work?"
   ]
  },
  {
   "cell_type": "code",
   "execution_count": 28,
   "metadata": {},
   "outputs": [
    {
     "name": "stdout",
     "output_type": "stream",
     "text": [
      "Number is less than 1\n",
      "No. 1\n",
      "No. 2\n",
      "No. 3\n",
      "No. 4\n"
     ]
    }
   ],
   "source": [
    "def recursiveMethod(n):\n",
    "    if n<1:\n",
    "        print(\"Number is less than 1\")\n",
    "    else:\n",
    "        recursiveMethod(n-1)\n",
    "        print(f\"No. {n}\")\n",
    "\n",
    "recursiveMethod(4)"
   ]
  },
  {
   "cell_type": "markdown",
   "metadata": {},
   "source": [
    "The Stack Memory work in Last in, First Out method. The following thing happens for the above function.\n",
    "\n",
    "\n",
    "    recursiveMethod(4)\n",
    "        - recursiveMethod(3)\n",
    "            - recursiveMethod(2)\n",
    "                - recursiveMethod(1)\n",
    "                    - recursiveMethod(0)\n",
    "\n",
    "\n",
    "This is stored in the stack like the following\n",
    "```\n",
    "====================================\n",
    "|       recursiveMethod(1)         |\n",
    "|       recursiveMethod(2)         |\n",
    "|       recursiveMethod(3)         |\n",
    "|       recursiveMethod(4)         |\n",
    "====================================\n",
    "```\n",
    "This is then popped out at function execution is finished."
   ]
  },
  {
   "cell_type": "code",
   "execution_count": 29,
   "metadata": {},
   "outputs": [
    {
     "data": {
      "text/plain": [
       "1024"
      ]
     },
     "execution_count": 29,
     "metadata": {},
     "output_type": "execute_result"
    }
   ],
   "source": [
    "## Example - 2\n",
    "def power_of_two(n: int):\n",
    "    if n==0:\n",
    "        return 1\n",
    "    else:\n",
    "        return power_of_two(n-1)*2\n",
    "    \n",
    "power_of_two(10)"
   ]
  },
  {
   "cell_type": "code",
   "execution_count": 85,
   "metadata": {},
   "outputs": [
    {
     "name": "stdout",
     "output_type": "stream",
     "text": [
      "Time taken for fibonacci_num   function: 0.027976639998087194\n",
      "Time taken for fibonacci_numv1 function: 0.2139947450014006\n"
     ]
    }
   ],
   "source": [
    "## Example - 3\n",
    "def fibonacci_num(a, b, n):\n",
    "    assert n>=0 and int(n)==n, \"The number must be a positive integer only\"\n",
    "    if n==0:\n",
    "        return \"The Fibonacci sequence ended\"\n",
    "    else:\n",
    "        sum = a+b\n",
    "        return fibonacci_num(a=b, b=sum, n=n-1)\n",
    "    \n",
    "def fibonacci_numv1(n):\n",
    "    assert n>=0 and int(n)==n, \"The number must be a positive integer only\"\n",
    "    if n in [0, 1]:\n",
    "        return n \n",
    "    else:\n",
    "        return fibonacci_numv1(n-1)+fibonacci_numv1(n-2)\n",
    "\n",
    "\n",
    "a = 0 \n",
    "b = 1\n",
    "n = 10\n",
    "\n",
    "time_factorial = timeit.timeit(f\"fibonacci_num({a}, {b}, {n})\", globals=globals(), number=10000)\n",
    "time_factorialv1 = timeit.timeit(f\"fibonacci_numv1({n})\", globals=globals(), number=10000)\n",
    "\n",
    "print(\"Time taken for fibonacci_num   function:\", time_factorial)\n",
    "print(\"Time taken for fibonacci_numv1 function:\", time_factorialv1)"
   ]
  },
  {
   "cell_type": "code",
   "execution_count": 84,
   "metadata": {},
   "outputs": [
    {
     "name": "stdout",
     "output_type": "stream",
     "text": [
      "Time taken for factorial   function: 0.017790005997085245\n",
      "Time taken for factorialv1 function: 0.01360310200107051\n"
     ]
    }
   ],
   "source": [
    "# Example - 4\n",
    "def factorial(n, mul):\n",
    "    assert n>=0 and int(n)==n, \"The number must be a positive integer only\"\n",
    "    if n==0:\n",
    "        return mul\n",
    "    else:\n",
    "        return factorial(n=(n-1), mul=mul*n)\n",
    "\n",
    "def factorialv1(n):\n",
    "    assert n>=0 and int(n)==n, \"The number must be a positive integer only\"\n",
    "    if n in [0, 1]:\n",
    "        return 1 \n",
    "    else:\n",
    "        return n * factorialv1(n-1)\n",
    "    \n",
    "a = 10\n",
    "time_factorial = timeit.timeit(f\"factorial({a}, 1)\", globals=globals(), number=10000)\n",
    "time_factorialv1 = timeit.timeit(f\"factorialv1({a})\", globals=globals(), number=10000)\n",
    "\n",
    "print(\"Time taken for factorial   function:\", time_factorial)\n",
    "print(\"Time taken for factorialv1 function:\", time_factorialv1)"
   ]
  },
  {
   "cell_type": "code",
   "execution_count": null,
   "metadata": {},
   "outputs": [],
   "source": []
  }
 ],
 "metadata": {
  "kernelspec": {
   "display_name": "notuncurie",
   "language": "python",
   "name": "python3"
  },
  "language_info": {
   "codemirror_mode": {
    "name": "ipython",
    "version": 3
   },
   "file_extension": ".py",
   "mimetype": "text/x-python",
   "name": "python",
   "nbconvert_exporter": "python",
   "pygments_lexer": "ipython3",
   "version": "3.9.0"
  }
 },
 "nbformat": 4,
 "nbformat_minor": 2
}

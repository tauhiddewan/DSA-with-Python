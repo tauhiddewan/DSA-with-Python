{
 "cells": [
  {
   "cell_type": "markdown",
   "metadata": {},
   "source": [
    "### Recursion Syntax\n",
    "\n",
    "```\n",
    "def recursionMethod(parameter):\n",
    "    if exit_from_condition_satisfied:\n",
    "        return some_value\n",
    "    else:\n",
    "        recursionMethod(modified_parameter)\n",
    "```"
   ]
  },
  {
   "cell_type": "code",
   "execution_count": 10,
   "metadata": {},
   "outputs": [
    {
     "name": "stdout",
     "output_type": "stream",
     "text": [
      "Reached doll no. 5\n",
      "Reached doll no. 4\n",
      "Reached doll no. 3\n",
      "Reached doll no. 2\n",
      "You have found the final doll. Kudos!\n"
     ]
    }
   ],
   "source": [
    "# Example\n",
    "def russ_dol(n):\n",
    "    if n==1:\n",
    "        print(\"You have found the final doll. Kudos!\")\n",
    "    else:\n",
    "        print(f\"Reached doll no. {n}\")\n",
    "        russ_dol(n-1)\n",
    "russ_dol(5)"
   ]
  },
  {
   "cell_type": "markdown",
   "metadata": {},
   "source": [
    "### How does it work?"
   ]
  },
  {
   "cell_type": "code",
   "execution_count": 16,
   "metadata": {},
   "outputs": [
    {
     "name": "stdout",
     "output_type": "stream",
     "text": [
      "Number is less than 1\n",
      "No. 1\n",
      "No. 2\n",
      "No. 3\n",
      "No. 4\n"
     ]
    }
   ],
   "source": [
    "def recursiveMethod(n):\n",
    "    if n<1:\n",
    "        print(\"Number is less than 1\")\n",
    "    else:\n",
    "        recursiveMethod(n-1)\n",
    "        print(f\"No. {n}\")\n",
    "\n",
    "recursiveMethod(4)"
   ]
  },
  {
   "cell_type": "markdown",
   "metadata": {},
   "source": [
    "The Stack Memory work in Last in, First Out method. The following thing happens for the above function.\n",
    "\n",
    "\n",
    "    recursiveMethod(4)\n",
    "        - recursiveMethod(3)\n",
    "            - recursiveMethod(2)\n",
    "                - recursiveMethod(1)\n",
    "                    - recursiveMethod(0)\n",
    "\n",
    "\n",
    "This is stored in the stack like the following\n",
    "```\n",
    "====================================\n",
    "|       recursiveMethod(1)         |\n",
    "|       recursiveMethod(2)         |\n",
    "|       recursiveMethod(3)         |\n",
    "|       recursiveMethod(4)         |\n",
    "====================================\n",
    "```\n",
    "This is then popped out at function execution is finished."
   ]
  },
  {
   "cell_type": "code",
   "execution_count": null,
   "metadata": {},
   "outputs": [],
   "source": []
  },
  {
   "cell_type": "code",
   "execution_count": null,
   "metadata": {},
   "outputs": [],
   "source": []
  },
  {
   "cell_type": "code",
   "execution_count": null,
   "metadata": {},
   "outputs": [],
   "source": []
  }
 ],
 "metadata": {
  "kernelspec": {
   "display_name": "notuncurie",
   "language": "python",
   "name": "python3"
  },
  "language_info": {
   "codemirror_mode": {
    "name": "ipython",
    "version": 3
   },
   "file_extension": ".py",
   "mimetype": "text/x-python",
   "name": "python",
   "nbconvert_exporter": "python",
   "pygments_lexer": "ipython3",
   "version": "3.9.0"
  }
 },
 "nbformat": 4,
 "nbformat_minor": 2
}
